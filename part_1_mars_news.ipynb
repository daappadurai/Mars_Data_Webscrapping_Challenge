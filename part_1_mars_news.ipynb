{
 "cells": [
  {
   "cell_type": "markdown",
   "metadata": {},
   "source": [
    "# Module 12 Challenge\n",
    "## Deliverable 1: Scrape Titles and Preview Text from Mars News"
   ]
  },
  {
   "cell_type": "code",
   "execution_count": 1,
   "metadata": {},
   "outputs": [],
   "source": [
    "# Import Splinter and BeautifulSoup\n",
    "from splinter import Browser\n",
    "from bs4 import BeautifulSoup as soup\n",
    "from webdriver_manager.chrome import ChromeDriverManager"
   ]
  },
  {
   "cell_type": "code",
   "execution_count": 2,
   "metadata": {
    "scrolled": true
   },
   "outputs": [
    {
     "name": "stderr",
     "output_type": "stream",
     "text": [
      "[WDM] - Downloading: 100%|██████████| 8.84M/8.84M [00:01<00:00, 8.01MB/s]\n"
     ]
    }
   ],
   "source": [
    "executable_path = {'executable_path': ChromeDriverManager().install()}\n",
    "browser = Browser('chrome', **executable_path, headless=False)"
   ]
  },
  {
   "cell_type": "markdown",
   "metadata": {},
   "source": [
    "### Step 1: Visit the Website\n",
    "\n",
    "1. Use automated browsing to visit the [Mars NASA news site](https://redplanetscience.com). Inspect the page to identify which elements to scrape.\n",
    "\n",
    "      > **Hint** To identify which elements to scrape, you might want to inspect the page by using Chrome DevTools."
   ]
  },
  {
   "cell_type": "code",
   "execution_count": 3,
   "metadata": {},
   "outputs": [],
   "source": [
    "# Visit the Mars NASA news site: https://redplanetscience.com\n",
    "url = \"https://redplanetscience.com\"\n",
    "browser.visit(url)"
   ]
  },
  {
   "cell_type": "markdown",
   "metadata": {},
   "source": [
    "### Step 2: Scrape the Website\n",
    "\n",
    "Create a Beautiful Soup object and use it to extract text elements from the website."
   ]
  },
  {
   "cell_type": "code",
   "execution_count": 4,
   "metadata": {},
   "outputs": [],
   "source": [
    "# Create a Beautiful Soup object\n",
    "html= browser.html\n",
    "news_elem = soup(html, \"html.parser\")\n"
   ]
  },
  {
   "cell_type": "code",
   "execution_count": 6,
   "metadata": {},
   "outputs": [],
   "source": [
    "# Extract all the text elements\n",
    "tags= news_elem.find_all(\"div\", class_=\"list_text\")\n"
   ]
  },
  {
   "cell_type": "markdown",
   "metadata": {},
   "source": [
    "### Step 3: Store the Results\n",
    "\n",
    "Extract the titles and preview text of the news articles that you scraped. Store the scraping results in Python data structures as follows:\n",
    "\n",
    "* Store each title-and-preview pair in a Python dictionary. And, give each dictionary two keys: `title` and `preview`. An example is the following:\n",
    "\n",
    "  ```python\n",
    "  {'title': \"Mars Rover Begins Mission!\", \n",
    "        'preview': \"NASA's Mars Rover begins a multiyear mission to collect data about the little-explored planet.\"}\n",
    "  ```\n",
    "\n",
    "* Store all the dictionaries in a Python list.\n",
    "\n",
    "* Print the list in your notebook."
   ]
  },
  {
   "cell_type": "code",
   "execution_count": 6,
   "metadata": {},
   "outputs": [],
   "source": [
    "# Create an empty list to store the dictionaries\n",
    "News_article=[]\n",
    " \n"
   ]
  },
  {
   "cell_type": "code",
   "execution_count": 7,
   "metadata": {},
   "outputs": [],
   "source": [
    "# Loop through the text elements\n",
    "for tag in tags:\n",
    "# Extract the title and preview text from the elements\n",
    "    title =tag.find(\"div\", class_=\"content_title\").text\n",
    "# Store each title and preview pair in a dictionary\n",
    "    preview = tag.find(\"div\", class_=\"article_teaser_body\").text\n",
    "# Add the dictionary to the list\n",
    "    News_article.append({\"Title\": title,\"Preview\":preview })\n",
    "\n",
    "\n",
    "\n",
    "\n"
   ]
  },
  {
   "cell_type": "code",
   "execution_count": 8,
   "metadata": {},
   "outputs": [
    {
     "name": "stdout",
     "output_type": "stream",
     "text": [
      "[{'Title': \"NASA's Perseverance Rover Goes Through Trials by Fire, Ice, Light and Sound\", 'Preview': \"The agency's new Mars rover is put through a series of tests in vacuum chambers, acoustic chambers and more to get ready for the Red Planet.\"}, {'Title': \"NASA's MAVEN Observes Martian Night Sky Pulsing in Ultraviolet Light\", 'Preview': 'Vast areas of the Martian night sky pulse in ultraviolet light, according to images from NASA’s MAVEN spacecraft. The results are being used to illuminate complex circulation patterns in the Martian atmosphere.'}, {'Title': 'NASA, ULA Launch Mars 2020 Perseverance Rover Mission to Red Planet', 'Preview': \"The agency's Mars 2020 mission is on its way. It will land at Jezero Crater in about seven months, on Feb. 18, 2021. \"}, {'Title': 'NASA to Broadcast Mars 2020 Perseverance Launch, Prelaunch Activities', 'Preview': 'Starting July 27, news activities will cover everything from mission engineering and science to returning samples from Mars to, of course, the launch itself.'}, {'Title': 'NASA Wins Two Emmy Awards for Interactive Mission Coverage', 'Preview': \"NASA-JPL's coverage of the Mars InSight landing earns one of the two wins, making this the NASA center's second Emmy.\"}, {'Title': \"3 Things We've Learned From NASA's Mars InSight \", 'Preview': 'Scientists are finding new mysteries since the geophysics mission landed two years ago.'}, {'Title': 'New Selfie Shows Curiosity, the Mars Chemist', 'Preview': 'The NASA rover performed a special chemistry experiment at the location captured in its newest self-portrait.'}, {'Title': \"NASA's MAVEN Explores Mars to Understand Radio Interference at Earth\", 'Preview': 'NASA’s MAVEN spacecraft has discovered “layers” and “rifts” in the electrically charged part of the upper atmosphere of Mars.'}, {'Title': \"NASA's Mars 2020 Heads Into the Test Chamber\", 'Preview': 'In this time-lapse video taken at JPL, engineers move the Mars 2020 rover into a large vacuum chamber for testing in Mars-like environmental conditions.'}, {'Title': 'NASA Adds Return Sample Scientists to Mars 2020 Leadership Team', 'Preview': 'The leadership council for Mars 2020 science added two new members who represent the interests of scientists destined to handle and study the first samples from Red Planet.'}, {'Title': 'Global Storms on Mars Launch Dust Towers Into the Sky', 'Preview': 'A Mars Dust Tower Stands Out Dust storms are common on Mars. But every decade or so, something unpredictable happens: a series of runaway storms break out, covering the entire planet in a dusty haze.'}, {'Title': 'NASA Perseverance Mars Rover Scientists Train in the Nevada Desert', 'Preview': \"Team members searched for signs of ancient microscopic life there, just as NASA's latest rover will on the Red Planet next year.\"}, {'Title': \"Common Questions about InSight's 'Mole'\", 'Preview': 'The following Q&As with members of the team answer some of the most common questions about the burrowing device, part of a science instrument called the Heat Flow and Physical Properties Package (HP3).'}, {'Title': \"Air Deliveries Bring NASA's Perseverance Mars Rover Closer to Launch\", 'Preview': \"A NASA Wallops Flight Facility cargo plane transported more than two tons of equipment — including the rover's sample collection tubes — to Florida for this summer's liftoff.\"}, {'Title': \"NASA's Perseverance Rover Attached to Atlas V Rocket\", 'Preview': 'Ready for its launch later in the month, the Mars-bound rover will touch terra firma no more.'}, {'Title': \"NASA's Perseverance Rover Goes Through Trials by Fire, Ice, Light and Sound\", 'Preview': \"The agency's new Mars rover is put through a series of tests in vacuum chambers, acoustic chambers and more to get ready for the Red Planet.\"}, {'Title': \"NASA's MAVEN Observes Martian Night Sky Pulsing in Ultraviolet Light\", 'Preview': 'Vast areas of the Martian night sky pulse in ultraviolet light, according to images from NASA’s MAVEN spacecraft. The results are being used to illuminate complex circulation patterns in the Martian atmosphere.'}, {'Title': 'NASA, ULA Launch Mars 2020 Perseverance Rover Mission to Red Planet', 'Preview': \"The agency's Mars 2020 mission is on its way. It will land at Jezero Crater in about seven months, on Feb. 18, 2021. \"}, {'Title': 'NASA to Broadcast Mars 2020 Perseverance Launch, Prelaunch Activities', 'Preview': 'Starting July 27, news activities will cover everything from mission engineering and science to returning samples from Mars to, of course, the launch itself.'}, {'Title': 'NASA Wins Two Emmy Awards for Interactive Mission Coverage', 'Preview': \"NASA-JPL's coverage of the Mars InSight landing earns one of the two wins, making this the NASA center's second Emmy.\"}, {'Title': \"3 Things We've Learned From NASA's Mars InSight \", 'Preview': 'Scientists are finding new mysteries since the geophysics mission landed two years ago.'}, {'Title': 'New Selfie Shows Curiosity, the Mars Chemist', 'Preview': 'The NASA rover performed a special chemistry experiment at the location captured in its newest self-portrait.'}, {'Title': \"NASA's MAVEN Explores Mars to Understand Radio Interference at Earth\", 'Preview': 'NASA’s MAVEN spacecraft has discovered “layers” and “rifts” in the electrically charged part of the upper atmosphere of Mars.'}, {'Title': \"NASA's Mars 2020 Heads Into the Test Chamber\", 'Preview': 'In this time-lapse video taken at JPL, engineers move the Mars 2020 rover into a large vacuum chamber for testing in Mars-like environmental conditions.'}, {'Title': 'NASA Adds Return Sample Scientists to Mars 2020 Leadership Team', 'Preview': 'The leadership council for Mars 2020 science added two new members who represent the interests of scientists destined to handle and study the first samples from Red Planet.'}, {'Title': 'Global Storms on Mars Launch Dust Towers Into the Sky', 'Preview': 'A Mars Dust Tower Stands Out Dust storms are common on Mars. But every decade or so, something unpredictable happens: a series of runaway storms break out, covering the entire planet in a dusty haze.'}, {'Title': 'NASA Perseverance Mars Rover Scientists Train in the Nevada Desert', 'Preview': \"Team members searched for signs of ancient microscopic life there, just as NASA's latest rover will on the Red Planet next year.\"}, {'Title': \"Common Questions about InSight's 'Mole'\", 'Preview': 'The following Q&As with members of the team answer some of the most common questions about the burrowing device, part of a science instrument called the Heat Flow and Physical Properties Package (HP3).'}, {'Title': \"Air Deliveries Bring NASA's Perseverance Mars Rover Closer to Launch\", 'Preview': \"A NASA Wallops Flight Facility cargo plane transported more than two tons of equipment — including the rover's sample collection tubes — to Florida for this summer's liftoff.\"}, {'Title': \"NASA's Perseverance Rover Attached to Atlas V Rocket\", 'Preview': 'Ready for its launch later in the month, the Mars-bound rover will touch terra firma no more.'}]\n"
     ]
    }
   ],
   "source": [
    "# Print the list to confirm success\n",
    "print(News_article)\n"
   ]
  },
  {
   "cell_type": "code",
   "execution_count": 9,
   "metadata": {},
   "outputs": [],
   "source": [
    "browser.quit()"
   ]
  },
  {
   "cell_type": "markdown",
   "metadata": {},
   "source": [
    "### (Optional) Step 4: Export the Data\n",
    "\n",
    "Optionally, store the scraped data in a file or database (to ease sharing the data with others). To do so, export the scraped data to either a JSON file or a MongoDB database."
   ]
  },
  {
   "cell_type": "code",
   "execution_count": 10,
   "metadata": {},
   "outputs": [],
   "source": [
    "# Export data to JSON\n"
   ]
  },
  {
   "cell_type": "code",
   "execution_count": null,
   "metadata": {},
   "outputs": [],
   "source": [
    "# Export data to MongoDB\n"
   ]
  }
 ],
 "metadata": {
  "kernelspec": {
   "display_name": "PythonData1",
   "language": "python",
   "name": "python3"
  },
  "language_info": {
   "codemirror_mode": {
    "name": "ipython",
    "version": 3
   },
   "file_extension": ".py",
   "mimetype": "text/x-python",
   "name": "python",
   "nbconvert_exporter": "python",
   "pygments_lexer": "ipython3",
   "version": "3.7.13"
  },
  "vscode": {
   "interpreter": {
    "hash": "6caa4b725b3887af080566d4f199cead4e604657ec74eb62238a3aa5668ac848"
   }
  }
 },
 "nbformat": 4,
 "nbformat_minor": 4
}
